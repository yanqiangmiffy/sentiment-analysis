{
 "cells": [
  {
   "cell_type": "code",
   "execution_count": 59,
   "metadata": {},
   "outputs": [],
   "source": [
    "from sklearn.linear_model import LogisticRegression\n",
    "from sklearn.feature_extraction.text import TfidfVectorizer\n",
    "from sklearn import svm\n",
    "from sklearn.linear_model.stochastic_gradient import SGDClassifier\n",
    "from sklearn.ensemble import RandomForestClassifier\n",
    "from sklearn.metrics import accuracy_score,f1_score,precision_score,recall_score\n",
    "from sklearn.model_selection import train_test_split,GridSearchCV\n",
    "import jieba\n",
    "import pandas as pd\n",
    "import numpy as np"
   ]
  },
  {
   "cell_type": "markdown",
   "metadata": {},
   "source": [
    "## 分词"
   ]
  },
  {
   "cell_type": "code",
   "execution_count": 60,
   "metadata": {},
   "outputs": [],
   "source": [
    "stop_words = open('../data/stop_words.txt','r',encoding='utf-8').read().split('\\n')\n",
    "def word_seg(content):\n",
    "    return [word for word in jieba.cut(content) if word not in stop_words and word!=' ']\n"
   ]
  },
  {
   "cell_type": "code",
   "execution_count": 67,
   "metadata": {},
   "outputs": [
    {
     "name": "stdout",
     "output_type": "stream",
     "text": [
      " 0    5836\n",
      "-1    1275\n",
      " 1    1179\n",
      "Name: sentiment_value, dtype: int64\n"
     ]
    }
   ],
   "source": [
    "# 内容分词\n",
    "train_data=pd.read_csv('../data/train.csv')\n",
    "# 去除重复的ID\n",
    "train_data=train_data.drop_duplicates(subset=['content_id'],keep='first') # 去除重复id的数据\n",
    "train_data['word_seg']=train_data['content'].apply(lambda x:\" \".join(word_seg(x)))\n",
    "print(train_data['sentiment_value'].value_counts())\n",
    "\n",
    "# sent_copy=train_data[train_data['sentiment_value'].isin([1,-1])]\n",
    "# train_data=pd.concat([train_data,sent_copy],axis=0)\n",
    "# train_data=pd.concat([train_data,sent_copy],axis=0)\n",
    "# train_data=pd.concat([train_data,sent_copy],axis=0)\n"
   ]
  },
  {
   "cell_type": "markdown",
   "metadata": {},
   "source": [
    " 我们可以发现类别不均衡 0：-1:1的比例将近为：5:1:1,但是如果像上面直接简单的copy是不可以的，会导致模型过拟合 "
   ]
  },
  {
   "cell_type": "markdown",
   "metadata": {},
   "source": [
    "## 提取tfidf特征"
   ]
  },
  {
   "cell_type": "code",
   "execution_count": 62,
   "metadata": {},
   "outputs": [],
   "source": [
    "vec = TfidfVectorizer(ngram_range=(1,3),min_df=1, max_df=0.9,use_idf=True,smooth_idf=True, sublinear_tf=True)\n",
    "X_train_feature=vec.fit_transform(train_data['word_seg'])"
   ]
  },
  {
   "cell_type": "markdown",
   "metadata": {},
   "source": [
    "## 模型训练"
   ]
  },
  {
   "cell_type": "code",
   "execution_count": 63,
   "metadata": {},
   "outputs": [
    {
     "name": "stderr",
     "output_type": "stream",
     "text": [
      "E:\\ProgramData\\Anaconda3\\lib\\site-packages\\sklearn\\linear_model\\stochastic_gradient.py:117: DeprecationWarning: n_iter parameter is deprecated in 0.19 and will be removed in 0.21. Use max_iter and tol instead.\n",
      "  DeprecationWarning)\n"
     ]
    },
    {
     "data": {
      "text/plain": [
       "SGDClassifier(alpha=0.0001, average=False, class_weight=None, epsilon=0.1,\n",
       "       eta0=0.0, fit_intercept=True, l1_ratio=0.15,\n",
       "       learning_rate='optimal', loss='hinge', max_iter=None, n_iter=80,\n",
       "       n_jobs=1, penalty='l2', power_t=0.5, random_state=None,\n",
       "       shuffle=True, tol=None, verbose=0, warm_start=False)"
      ]
     },
     "execution_count": 63,
     "metadata": {},
     "output_type": "execute_result"
    }
   ],
   "source": [
    "y_train_sent=train_data['sentiment_value'].astype(int)\n",
    "X_train_sent,X_test_sent,y_train_sent,y_test_sent=\\\n",
    "    train_test_split(X_train_feature,y_train_sent,test_size=0.1,random_state=42)\n",
    "# clf = LogisticRegression(C=4, dual=True)\n",
    "# clf =svm.LinearSVC()\n",
    "# clf =RandomForestClassifier()\n",
    "clf =SGDClassifier(n_iter=80)\n",
    "# tune_params(X_train_sent,y_train_sent)\n",
    "clf.fit(X_train_sent, y_train_sent)\n"
   ]
  },
  {
   "cell_type": "markdown",
   "metadata": {},
   "source": [
    "##  过采样"
   ]
  },
  {
   "cell_type": "code",
   "execution_count": 111,
   "metadata": {},
   "outputs": [
    {
     "name": "stdout",
     "output_type": "stream",
     "text": [
      "[(-1, 5285), (0, 5285), (1, 5285)]\n"
     ]
    }
   ],
   "source": [
    "from imblearn.over_sampling import SMOTE, ADASYN\n",
    "from collections import Counter\n",
    "X_resampled_smote, y_resampled_smote = SMOTE().fit_sample(X_train_sent,y_train_sent) \n",
    "print(sorted(Counter(y_resampled_smote).items()))"
   ]
  },
  {
   "cell_type": "code",
   "execution_count": 112,
   "metadata": {},
   "outputs": [
    {
     "name": "stderr",
     "output_type": "stream",
     "text": [
      "E:\\ProgramData\\Anaconda3\\lib\\site-packages\\sklearn\\linear_model\\stochastic_gradient.py:117: DeprecationWarning: n_iter parameter is deprecated in 0.19 and will be removed in 0.21. Use max_iter and tol instead.\n",
      "  DeprecationWarning)\n"
     ]
    },
    {
     "data": {
      "text/plain": [
       "SGDClassifier(alpha=0.0001, average=False, class_weight=None, epsilon=0.1,\n",
       "       eta0=0.0, fit_intercept=True, l1_ratio=0.15,\n",
       "       learning_rate='optimal', loss='hinge', max_iter=None, n_iter=80,\n",
       "       n_jobs=1, penalty='l2', power_t=0.5, random_state=None,\n",
       "       shuffle=True, tol=None, verbose=0, warm_start=False)"
      ]
     },
     "execution_count": 112,
     "metadata": {},
     "output_type": "execute_result"
    }
   ],
   "source": [
    "clf =SGDClassifier(n_iter=80)\n",
    "clf.fit(X_resampled_smote, y_resampled_smote)"
   ]
  },
  {
   "cell_type": "markdown",
   "metadata": {},
   "source": [
    "## 在测试集评估模型"
   ]
  },
  {
   "cell_type": "code",
   "execution_count": 113,
   "metadata": {},
   "outputs": [
    {
     "name": "stdout",
     "output_type": "stream",
     "text": [
      "precision:0.6622-recall:0.6876-f1:0.6210-accuracy:0.6876\n"
     ]
    }
   ],
   "source": [
    "pred_test_sent=clf.predict(X_test_sent)\n",
    "# 精确度=真阳性/（真阳性+假阳性）\n",
    "precision=precision_score(y_test_sent,pred_test_sent,pos_label=None,average='weighted')\n",
    "# 召回率=真阳性/（真阳性+假阴性）\n",
    "recall=recall_score(y_test_sent,pred_test_sent,pos_label=None,average='weighted')\n",
    "# F1\n",
    "f1=f1_score(y_test_sent,pred_test_sent,pos_label=None,average='weighted')\n",
    "# 精确率\n",
    "accuracy=accuracy_score(y_test_sent,pred_test_sent)\n",
    "print(\"precision:{:.4f}-recall:{:.4f}-f1:{:.4f}-accuracy:{:.4f}\".format(precision,recall,f1,accuracy))"
   ]
  },
  {
   "cell_type": "code",
   "execution_count": 114,
   "metadata": {},
   "outputs": [
    {
     "name": "stdout",
     "output_type": "stream",
     "text": [
      "(829,)\n",
      " 0    551\n",
      "-1    153\n",
      " 1    125\n",
      "Name: sentiment_value, dtype: int64\n",
      "真实情感为1或者-1的，预测正确的数量：\n",
      "47\n",
      "真实情感为1或者-1的，预测错误的数量：\n",
      "231\n"
     ]
    }
   ],
   "source": [
    "print(pred_test_sent.shape)\n",
    "print(y_test_sent.value_counts())\n",
    "print(\"真实情感为1或者-1的，预测正确的数量：\")\n",
    "_num=0\n",
    "for pred_test,y_test in zip(list(pred_test_sent),list(y_test_sent)):\n",
    "    if y_test==pred_test and y_test in [1,-1]:\n",
    "        _num+=1\n",
    "#         print(pred_test,y_test)\n",
    "print(_num)\n",
    "\n",
    "\n",
    "print(\"真实情感为1或者-1的，预测错误的数量：\")\n",
    "_num=0\n",
    "for pred_test,y_test in zip(list(pred_test_sent),list(y_test_sent)):\n",
    "    if y_test!=pred_test and y_test in [1,-1]:\n",
    "        _num+=1\n",
    "#         print(pred_test,y_test)\n",
    "print(_num)"
   ]
  },
  {
   "cell_type": "code",
   "execution_count": 115,
   "metadata": {},
   "outputs": [
    {
     "data": {
      "text/plain": [
       "array([1, 0, 0, ..., 0, 0, 0])"
      ]
     },
     "execution_count": 115,
     "metadata": {},
     "output_type": "execute_result"
    }
   ],
   "source": [
    "# 预测结果\n",
    "submit_data=pd.read_csv('../data/test_public.csv')\n",
    "submit_data['word_seg']=submit_data['content'].apply(lambda x:\" \".join(word_seg(x)))\n",
    "X_test_feature=vec.transform(submit_data['word_seg'])\n",
    "sent_preds=clf.predict(X_test_feature)\n",
    "sent_preds"
   ]
  },
  {
   "cell_type": "code",
   "execution_count": null,
   "metadata": {},
   "outputs": [],
   "source": []
  },
  {
   "cell_type": "code",
   "execution_count": null,
   "metadata": {},
   "outputs": [],
   "source": []
  }
 ],
 "metadata": {
  "kernelspec": {
   "display_name": "Python 3",
   "language": "python",
   "name": "python3"
  },
  "language_info": {
   "codemirror_mode": {
    "name": "ipython",
    "version": 3
   },
   "file_extension": ".py",
   "mimetype": "text/x-python",
   "name": "python",
   "nbconvert_exporter": "python",
   "pygments_lexer": "ipython3",
   "version": "3.6.5"
  }
 },
 "nbformat": 4,
 "nbformat_minor": 1
}
